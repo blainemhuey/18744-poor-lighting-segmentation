{
 "cells": [
  {
   "cell_type": "code",
   "execution_count": 1,
   "metadata": {
    "collapsed": true
   },
   "outputs": [],
   "source": [
    "import torch\n",
    "import torch.nn as nn\n",
    "import torch.nn.functional as F\n",
    "from torch.utils.data import Dataset, DataLoader, ConcatDataset\n",
    "import torchvision\n",
    "\n",
    "from PIL import Image\n",
    "import numpy as np\n",
    "import matplotlib.pyplot as plt\n",
    "import matplotlib.patches as mpatches\n",
    "\n",
    "from albumentations.pytorch import ToTensorV2\n",
    "import albumentations as A\n",
    "\n",
    "from tqdm import tqdm"
   ]
  },
  {
   "cell_type": "markdown",
   "source": [
    "## Load Datasets"
   ],
   "metadata": {
    "collapsed": false
   }
  },
  {
   "cell_type": "code",
   "execution_count": 10,
   "outputs": [],
   "source": [
    "from datasets import MFNetDataset, HeatNetDataset, CustomDataset\n",
    "\n",
    "mfnet_data_dir = \"./datasets/ir_seg_dataset\"\n",
    "heatnet_data_dir = \"./datasets/heatnet_data/train\"\n",
    "custom_data_dir = \"./datasets/custom_data\"\n",
    "\n",
    "transforms = [lambda x, y: tuple(map(A.Compose([ToTensorV2()])(image=x, mask=y).get, [\"image\", \"mask\"]))]\n",
    "train_dataset_mfnet = MFNetDataset(mfnet_data_dir, 'train', have_label=True, transform=transforms)\n",
    "train_dataset_custom = CustomDataset(custom_data_dir, 'train', have_label=True, transform=transforms)\n",
    "\n",
    "train_dataloader_mfnet = DataLoader(train_dataset_mfnet)\n",
    "train_dataloader_custom = DataLoader(train_dataset_custom)"
   ],
   "metadata": {
    "collapsed": false
   }
  },
  {
   "cell_type": "markdown",
   "source": [
    "## MFNet Dataset IR Histogram"
   ],
   "metadata": {
    "collapsed": false
   }
  },
  {
   "cell_type": "code",
   "execution_count": 20,
   "outputs": [
    {
     "name": "stdout",
     "output_type": "stream",
     "text": [
      "Min 0.0 Max 0.9960784316062927 Mean 0.39541011310759044 Std 0.18480302547407193\n"
     ]
    },
    {
     "data": {
      "text/plain": "<matplotlib.patches.StepPatch at 0x7ffa1ee72b50>"
     },
     "execution_count": 20,
     "metadata": {},
     "output_type": "execute_result"
    },
    {
     "data": {
      "text/plain": "<Figure size 432x288 with 1 Axes>",
      "image/png": "[encoded data removed]"
     },
     "metadata": {
      "needs_background": "light"
     },
     "output_type": "display_data"
    }
   ],
   "source": [
    "mfnet_hist = np.zeros(255)\n",
    "max_value = 0\n",
    "min_value = 1\n",
    "mean_value = 0\n",
    "x2_value = 0\n",
    "for images, labels in train_dataloader_mfnet:\n",
    "    ir_values = images.numpy()[0, 3].flatten()\n",
    "    max_value = max(max_value, np.max(ir_values))\n",
    "    min_value = min(min_value, np.min(ir_values))\n",
    "    mean_value += np.sum(ir_values)\n",
    "    x2_value += np.sum(ir_values**2)\n",
    "    hist, _ = np.histogram(ir_values, bins=255, range=(0, 1))\n",
    "    mfnet_hist += hist\n",
    "mfnet_hist /= len(train_dataset_mfnet)\n",
    "mean_value /= (len(train_dataset_mfnet) * 480 * 640)\n",
    "x2_value /= (len(train_dataset_mfnet) * 480 * 640)\n",
    "print(f\"Min {min_value} Max {max_value} Mean {mean_value} Std {np.sqrt(x2_value-mean_value**2)}\")\n",
    "plt.stairs(mfnet_hist, np.linspace(0, 1, 256), fill=True)"
   ],
   "metadata": {
    "collapsed": false
   }
  },
  {
   "cell_type": "markdown",
   "source": [
    "## Our Dataset IR Histogram"
   ],
   "metadata": {
    "collapsed": false
   }
  },
  {
   "cell_type": "code",
   "execution_count": 21,
   "outputs": [
    {
     "name": "stdout",
     "output_type": "stream",
     "text": [
      "Min 0.0 Max 1.0 Mean 0.5975751018791305 Std 0.2000081881161562\n"
     ]
    },
    {
     "data": {
      "text/plain": "<matplotlib.patches.StepPatch at 0x7ffa1eecd610>"
     },
     "execution_count": 21,
     "metadata": {},
     "output_type": "execute_result"
    },
    {
     "data": {
      "text/plain": "<Figure size 432x288 with 1 Axes>",
      "image/png": "[encoded data removed]"
     },
     "metadata": {
      "needs_background": "light"
     },
     "output_type": "display_data"
    }
   ],
   "source": [
    "custom_hist = np.zeros(255)\n",
    "max_value = 0\n",
    "min_value = 1\n",
    "mean_value = 0\n",
    "x2_value = 0\n",
    "for images, labels in train_dataloader_custom:\n",
    "    ir_values = images.numpy()[0, 3].flatten()\n",
    "    max_value = max(max_value, np.max(ir_values))\n",
    "    min_value = min(min_value, np.min(ir_values))\n",
    "    mean_value += np.sum(ir_values)\n",
    "    x2_value += np.sum(ir_values**2)\n",
    "    hist, _ = np.histogram(ir_values, bins=255, range=(0, 1))\n",
    "    custom_hist += hist\n",
    "custom_hist /= len(train_dataset_custom)\n",
    "mean_value /= (len(train_dataset_custom) * 480 * 640)\n",
    "x2_value /= (len(train_dataset_custom) * 480 * 640)\n",
    "print(f\"Min {min_value} Max {max_value} Mean {mean_value} Std {np.sqrt(x2_value-mean_value**2)}\")\n",
    "plt.stairs(custom_hist, np.linspace(0, 1, 256), fill=True)"
   ],
   "metadata": {
    "collapsed": false
   }
  },
  {
   "cell_type": "code",
   "execution_count": null,
   "outputs": [],
   "source": [],
   "metadata": {
    "collapsed": false
   }
  }
 ],
 "metadata": {
  "kernelspec": {
   "display_name": "Python 3",
   "language": "python",
   "name": "python3"
  },
  "language_info": {
   "codemirror_mode": {
    "name": "ipython",
    "version": 2
   },
   "file_extension": ".py",
   "mimetype": "text/x-python",
   "name": "python",
   "nbconvert_exporter": "python",
   "pygments_lexer": "ipython2",
   "version": "2.7.6"
  }
 },
 "nbformat": 4,
 "nbformat_minor": 0
}
